{
 "cells": [
  {
   "cell_type": "markdown",
   "id": "73e4e9ed",
   "metadata": {},
   "source": [
    "Simple parallel workflow"
   ]
  },
  {
   "cell_type": "code",
   "execution_count": 41,
   "id": "a3163399",
   "metadata": {},
   "outputs": [],
   "source": [
    "from langgraph.graph import StateGraph,START, END\n",
    "from typing import TypedDict\n"
   ]
  },
  {
   "cell_type": "code",
   "execution_count": 42,
   "id": "7d253306",
   "metadata": {},
   "outputs": [],
   "source": [
    "class BatsmanState(TypedDict):\n",
    "\n",
    "    runs: int\n",
    "    balls: int\n",
    "    fours: int\n",
    "    sixes: int\n",
    "\n",
    "    sr: float\n",
    "    bpb: float\n",
    "    boundary_percent: float\n",
    "    summary: str"
   ]
  },
  {
   "cell_type": "code",
   "execution_count": 43,
   "id": "3a895c76",
   "metadata": {},
   "outputs": [],
   "source": [
    "def calculate_sr(state:BatsmanState):\n",
    "\n",
    "    sr = (state['runs']/state['balls'])*100\n",
    "\n",
    "    return {'sr': sr}\n",
    "    "
   ]
  },
  {
   "cell_type": "code",
   "execution_count": 44,
   "id": "526e11c7",
   "metadata": {},
   "outputs": [],
   "source": [
    "def calculate_bpb(state: BatsmanState):\n",
    "\n",
    "    bpb = state['balls']/(state['fours']+state['sixes'])\n",
    "\n",
    "    return {'bpb' : bpb}"
   ]
  },
  {
   "cell_type": "code",
   "execution_count": 45,
   "id": "8c923270",
   "metadata": {},
   "outputs": [],
   "source": [
    "def calculate_boundary_percent(state: BatsmanState):\n",
    "\n",
    "    boundary_percent = (((state['fours'] * 4) + (state['sixes'] * 6))/state['runs']) * 100\n",
    "\n",
    "    return {'boundary_percent': boundary_percent}"
   ]
  },
  {
   "cell_type": "code",
   "execution_count": 46,
   "id": "a974f20f",
   "metadata": {},
   "outputs": [],
   "source": [
    "def summary(state: BatsmanState):\n",
    "\n",
    "    summary = f\"\"\"\n",
    "Strike Rate - {state['sr']} \\n\n",
    "Balls per boundary - {state['bpb']} \\n \n",
    "Boundary percent - {state ['boundary_percent']}\n",
    "\"\"\" \n",
    "\n",
    "    return {'summary': summary}\n"
   ]
  },
  {
   "cell_type": "code",
   "execution_count": 47,
   "id": "cce27e7e",
   "metadata": {},
   "outputs": [],
   "source": [
    "graph = StateGraph(BatsmanState)\n",
    "\n",
    "graph.add_node('calculate_sr', calculate_sr)\n",
    "graph.add_node('calculate_bpb',calculate_bpb)\n",
    "graph.add_node('calculate_boundary_percent',calculate_boundary_percent)\n",
    "graph.add_node('summary',summary)\n",
    "\n",
    "# edges\n",
    "\n",
    "graph.add_edge(START, 'calculate_sr')\n",
    "graph.add_edge(START, 'calculate_bpb')\n",
    "graph.add_edge(START, 'calculate_boundary_percent')\n",
    "\n",
    "graph.add_edge('calculate_sr', 'summary')\n",
    "graph.add_edge('calculate_sr','summary')\n",
    "graph.add_edge('calculate_sr','summary')\n",
    "\n",
    "\n",
    "graph.add_edge('summary',END)\n",
    "\n",
    "workflow = graph.compile()"
   ]
  },
  {
   "cell_type": "code",
   "execution_count": 48,
   "id": "f93c7d80",
   "metadata": {},
   "outputs": [
    {
     "data": {
      "image/png": "[encoded data removed]",
      "text/plain": [
       "<langgraph.graph.state.CompiledStateGraph object at 0x000002BF9315E650>"
      ]
     },
     "execution_count": 48,
     "metadata": {},
     "output_type": "execute_result"
    }
   ],
   "source": [
    "workflow"
   ]
  },
  {
   "cell_type": "code",
   "execution_count": 49,
   "id": "0f51d377",
   "metadata": {},
   "outputs": [
    {
     "data": {
      "text/plain": [
       "{'runs': 100,\n",
       " 'balls': 50,\n",
       " 'fours': 6,\n",
       " 'sixes': 4,\n",
       " 'sr': 200.0,\n",
       " 'bpb': 5.0,\n",
       " 'boundary_percent': 48.0,\n",
       " 'summary': '\\nStrike Rate - 200.0 \\n\\nBalls per boundary - 5.0 \\n \\nBoundary percent - 48.0\\n'}"
      ]
     },
     "execution_count": 49,
     "metadata": {},
     "output_type": "execute_result"
    }
   ],
   "source": [
    "initial_state = {\n",
    "    'runs': 100,\n",
    "    'balls': 50,\n",
    "    'fours' : 6,\n",
    "    'sixes': 4\n",
    "}\n",
    "\n",
    "workflow.invoke(initial_state)"
   ]
  },
  {
   "cell_type": "code",
   "execution_count": null,
   "id": "ec5fe096",
   "metadata": {},
   "outputs": [],
   "source": []
  }
 ],
 "metadata": {
  "kernelspec": {
   "display_name": "myenv",
   "language": "python",
   "name": "python3"
  },
  "language_info": {
   "codemirror_mode": {
    "name": "ipython",
    "version": 3
   },
   "file_extension": ".py",
   "mimetype": "text/x-python",
   "name": "python",
   "nbconvert_exporter": "python",
   "pygments_lexer": "ipython3",
   "version": "3.13.5"
  }
 },
 "nbformat": 4,
 "nbformat_minor": 5
}
